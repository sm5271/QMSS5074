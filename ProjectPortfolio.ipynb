{
  "nbformat": 4,
  "nbformat_minor": 0,
  "metadata": {
    "colab": {
      "provenance": []
    },
    "kernelspec": {
      "name": "python3",
      "display_name": "Python 3"
    },
    "language_info": {
      "name": "python"
    }
  },
  "cells": [
    {
      "cell_type": "markdown",
      "source": [
        "# Sohil Malik\n",
        "\n",
        "# QMSS 5074\n",
        "\n",
        "# Portfolio of Projects\n",
        "\n",
        "Link to public Github repo: https://github.com/sm5271/QMSS5074.git"
      ],
      "metadata": {
        "id": "U7QVc6sm63X9"
      }
    },
    {
      "cell_type": "markdown",
      "source": [
        "## Assignment 1\n",
        "\n",
        "Using data from the world happiness report, I implemented various prediction models trying to predict world happiness well. I initially created three random forest classifier models. After my peers and I discussed our various models, I decided to train additional models using random forests and gradient boosting. \n",
        "\n",
        "Link to Project: https://github.com/sm5271/QMSS5074/blob/main/Assignment1%20(2).ipynb"
      ],
      "metadata": {
        "id": "HJW5VEA67IY3"
      }
    },
    {
      "cell_type": "markdown",
      "source": [
        "## Assignment 2\n",
        "\n",
        "Using a dataset composed of 423 COVID-19, 1485 viral pneumonia, and 1579 normal chest X-ray images, I implemented various prediction models trying to predict x-ray images well. Building a predictive model using this data would be useful to assist with screening viral and COVID-19 pneumonia. The three prediction models I implemented were CNN, VGG16 with transfer learning, and ResNet50 with transfer learning. After discussing with my peers, I decided to implement an Inception model. \n",
        "\n",
        "Link to Project: https://github.com/sm5271/QMSS5074/blob/main/Assignment2.ipynb"
      ],
      "metadata": {
        "id": "JFaTGvMV9JyF"
      }
    },
    {
      "cell_type": "markdown",
      "source": [
        "## Assignment 3\n",
        "\n",
        "Using the Stanford SST Sentiment dataset, I implemented various prediction models trying to predict sentiment analyses of movie reviews. The first prediction model I implemented used an embedding layer and LSTM layers. The second prediction model I implemented used an embedding layer and Conv1d layers. The third prediction model I implemented used transfer learning with glove embeddings. After discussing models with my peers, I decided to implement two new models proposed by my peers. The first model used transfer learning with glove embeddings and the second model used an embedding layer with LSTM layers. \n",
        "\n",
        "Link to Project: https://github.com/sm5271/QMSS5074/blob/main/Assignment3.ipynb"
      ],
      "metadata": {
        "id": "U4uM7VLl_aMJ"
      }
    }
  ]
}